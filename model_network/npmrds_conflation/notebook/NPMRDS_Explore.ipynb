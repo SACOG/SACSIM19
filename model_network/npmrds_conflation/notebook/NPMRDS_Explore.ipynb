{
 "cells": [
  {
   "cell_type": "markdown",
   "metadata": {},
   "source": [
    "# NPMRDS Exploration for Model Speed Validation\n",
    "This notebook is a sandbox for visually exploring NPMRDS data."
   ]
  },
  {
   "cell_type": "code",
   "execution_count": 2,
   "metadata": {},
   "outputs": [],
   "source": [
    "# Function to load SQL Query Results into a DataFrame\n",
    "from time import perf_counter as perf\n",
    "\n",
    "import pandas as pd\n",
    "import urllib\n",
    "\n",
    "import sqlalchemy as sqla # needed to run pandas df.to_sql() function\n",
    "    \n",
    "# extract SQL Server query results into a pandas dataframe   \n",
    "def sqlqry_to_df(query_str, dbname, servername='SQL-SVR', trustedconn='yes'):     \n",
    "\n",
    "    conn_str = \"DRIVER={ODBC Driver 17 for SQL Server};\" \\\n",
    "        f\"SERVER={servername};\" \\\n",
    "        f\"DATABASE={dbname};\" \\\n",
    "        f\"Trusted_Connection={trustedconn}\"\n",
    "        \n",
    "    conn_str = urllib.parse.quote_plus(conn_str)\n",
    "    engine = sqla.create_engine(f\"mssql+pyodbc:///?odbc_connect={conn_str}\")\n",
    "       \n",
    "    start_time = perf()\n",
    "\n",
    "    # create SQL table from the dataframe\n",
    "    print(\"Executing query. Results loading into dataframe...\")\n",
    "    df = pd.read_sql_query(sql=query_str, con=engine)\n",
    "    rowcnt = df.shape[0]\n",
    "    \n",
    "    et_mins = round((perf() - start_time) / 60, 2)\n",
    "    print(f\"Successfully executed query in {et_mins} minutes. {rowcnt} rows loaded into dataframe.\")\n",
    "    \n",
    "    return df"
   ]
  },
  {
   "cell_type": "markdown",
   "metadata": {},
   "source": [
    "## Chart 1: Single TMC Analysis\n",
    "Plots all travel times for a single TMC within a given time period, to help identify method for outlier exclusion"
   ]
  },
  {
   "cell_type": "code",
   "execution_count": null,
   "metadata": {},
   "outputs": [],
   "source": [
    "import cufflinks as cf\n",
    "\n",
    "db = \"NPMRDS\"\n",
    "test_qry = \"SELECT TOP 100 * FROM npmrds_2017_alltmc_paxveh\"\n",
    "\n",
    "sqlqry_to_df(query_str, dbname"
   ]
  }
 ],
 "metadata": {
  "kernelspec": {
   "display_name": "ArcGISPro",
   "language": "Python",
   "name": "python3"
  },
  "language_info": {
   "file_extension": ".py",
   "name": "python",
   "version": "3"
  }
 },
 "nbformat": 4,
 "nbformat_minor": 2
}
