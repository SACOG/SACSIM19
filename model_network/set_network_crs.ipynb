{
 "cells": [
  {
   "cell_type": "code",
   "execution_count": 5,
   "metadata": {},
   "outputs": [],
   "source": [
    "# Set CRS of SHP outputted from Cube. By default, Cube will export NET to SHP without defining a CRS\n",
    "\n",
    "import os\n",
    "\n",
    "import arcpy\n",
    "\n",
    "\n",
    "def set_sref(in_file, out_dir, out_file, output_sref):\n",
    "    arcpy.env.outputCoordinateSystem = output_sref\n",
    "    arcpy.conversion.FeatureClassToFeatureClass(in_file, out_dir, out_file)\n",
    "\n",
    "if __name__ == '__main__':\n",
    "    # input SHP, from Cube NET and without spatial ref system\n",
    "    shp_dir = r\"Q:\\SACSIM19\\2020MTP\\highway\\network update\\NetworkGIS\\ModelNetGISProjects\\MTP_MTIP_DataReleaseComparison\\SHP\\2040Pricing\"\n",
    "    in_shp = \"MTP_MTIPAm2_2040Pricing.shp\"\n",
    "\n",
    "    # output location\n",
    "    output_dir = r'\\\\data-svr\\Modeling\\SACSIM19\\2020MTP\\highway\\network update\\NetworkGIS\\ModelNetGISProjects\\MTP_MTIP_DataReleaseComparison\\NetworkReleaseComparison.gdb'\n",
    "    \n",
    "    # set spatial reference you want to output it as\n",
    "    sr_sacog = arcpy.SpatialReference(2226) # 2226 = SACOG CRS ID (CA NAD83 ZONE 5); 4326 = WGS84\n",
    "\n",
    "    #==============================================================\n",
    "    in_shp = os.path.join(shp_dir, in_shp)\n",
    "    out_fc = f\"compare{os.path.splitext(os.path.basename(in_shp))[0]}\"\n",
    "    \n",
    "    set_sref(in_shp, output_dir, out_fc, sr_sacog)\n",
    "\n"
   ]
  },
  {
   "cell_type": "code",
   "execution_count": null,
   "metadata": {},
   "outputs": [],
   "source": []
  }
 ],
 "metadata": {
  "kernelspec": {
   "display_name": "Python 3",
   "language": "python",
   "name": "python3"
  },
  "language_info": {
   "codemirror_mode": {
    "name": "ipython",
    "version": 3
   },
   "file_extension": ".py",
   "mimetype": "text/x-python",
   "name": "python",
   "nbconvert_exporter": "python",
   "pygments_lexer": "ipython3",
   "version": "3.7.9"
  }
 },
 "nbformat": 4,
 "nbformat_minor": 4
}
