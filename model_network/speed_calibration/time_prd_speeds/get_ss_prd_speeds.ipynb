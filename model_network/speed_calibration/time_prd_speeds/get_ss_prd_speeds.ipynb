{
 "cells": [
  {
   "cell_type": "markdown",
   "id": "1e3cd6c8",
   "metadata": {},
   "source": [
    "# Build Validation Table for NPMRDS\n",
    "For each of the 9 SACSIM time periods, provide:\n",
    "* Average speed\n",
    "* Number of epochs\n",
    "* Standard error of the speed (standard deviation / mean)"
   ]
  },
  {
   "cell_type": "code",
   "execution_count": null,
   "id": "692d84f6",
   "metadata": {},
   "outputs": [],
   "source": [
    "import os\n",
    "\n",
    "import pandas as pd\n",
    "import urllib\n",
    "import sqlalchemy as sqla # needed to run pandas df.to_sql() function\n",
    "    \n",
    "# extract SQL Server query results into a pandas dataframe   \n",
    "def sqlqry_to_df(query_str, dbname, servername='SQL-SVR', trustedconn='yes'):     \n",
    "\n",
    "    conn_str = \"DRIVER={ODBC Driver 17 for SQL Server};\" \\\n",
    "        f\"SERVER={servername};\" \\\n",
    "        f\"DATABASE={dbname};\" \\\n",
    "        f\"Trusted_Connection={trustedconn}\"\n",
    "        \n",
    "    conn_str = urllib.parse.quote_plus(conn_str)\n",
    "    engine = sqla.create_engine(f\"mssql+pyodbc:///?odbc_connect={conn_str}\")\n",
    "       \n",
    "    start_time = perf()\n",
    "\n",
    "    # create SQL table from the dataframe\n",
    "    print(\"Executing query. Results loading into dataframe...\")\n",
    "    df = pd.read_sql_query(sql=query_str, con=engine)\n",
    "    rowcnt = df.shape[0]\n",
    "    \n",
    "    et_mins = round((perf() - start_time) / 60, 2)\n",
    "    print(f\"Successfully executed query in {et_mins} minutes. {rowcnt} rows loaded into dataframe.\")\n",
    "    \n",
    "    return df"
   ]
  },
  {
   "cell_type": "code",
   "execution_count": null,
   "id": "80204bc2",
   "metadata": {},
   "outputs": [],
   "source": []
  }
 ],
 "metadata": {
  "kernelspec": {
   "display_name": "Python 3",
   "language": "python",
   "name": "python3"
  },
  "language_info": {
   "codemirror_mode": {
    "name": "ipython",
    "version": 3
   },
   "file_extension": ".py",
   "mimetype": "text/x-python",
   "name": "python",
   "nbconvert_exporter": "python",
   "pygments_lexer": "ipython3",
   "version": "3.7.11"
  }
 },
 "nbformat": 4,
 "nbformat_minor": 5
}
