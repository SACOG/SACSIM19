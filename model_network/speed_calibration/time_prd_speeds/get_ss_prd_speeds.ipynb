{
 "cells": [
  {
   "cell_type": "markdown",
   "id": "63d9ad52",
   "metadata": {},
   "source": [
    "# Build Validation Table for NPMRDS\n",
    "For each of the 9 SACSIM time periods, provide:\n",
    "* Average speed\n",
    "* Number of epochs\n",
    "* Standard error of the speed (standard deviation / mean)"
   ]
  },
  {
   "cell_type": "code",
   "execution_count": 12,
   "id": "2c3a97cf",
   "metadata": {},
   "outputs": [],
   "source": [
    "import os\n",
    "from time import perf_counter as perf\n",
    "\n",
    "import pandas as pd\n",
    "import urllib\n",
    "import sqlalchemy as sqla # needed to run pandas df.to_sql() function\n",
    "    \n",
    "# extract SQL Server query results into a pandas dataframe   \n",
    "def sqlqry_to_df(query_str, dbname, servername='SQL-SVR', trustedconn='yes'):     \n",
    "\n",
    "    conn_str = \"DRIVER={ODBC Driver 17 for SQL Server};\" \\\n",
    "        f\"SERVER={servername};\" \\\n",
    "        f\"DATABASE={dbname};\" \\\n",
    "        f\"Trusted_Connection={trustedconn}\"\n",
    "        \n",
    "    conn_str = urllib.parse.quote_plus(conn_str)\n",
    "    engine = sqla.create_engine(f\"mssql+pyodbc:///?odbc_connect={conn_str}\")\n",
    "       \n",
    "    start_time = perf()\n",
    "\n",
    "    # create SQL table from the dataframe\n",
    "    print(\"Executing query. Results loading into dataframe...\")\n",
    "    df = pd.read_sql_query(sql=query_str, con=engine)\n",
    "    rowcnt = df.shape[0]\n",
    "    \n",
    "    et_mins = round((perf() - start_time) / 60, 2)\n",
    "    print(f\"Successfully executed query in {et_mins} minutes. {rowcnt} rows loaded into dataframe.\")\n",
    "    \n",
    "    return df\n",
    "\n",
    "def get_prd_df(qry_file, db_name, speed_tbl, tmc_tbl, prd_tag, prd_hrs):\n",
    "    \n",
    "    with open(qry_file, 'r') as f:\n",
    "        q_str = f.read()\n",
    "        \n",
    "    q_str_formatted = q_str.format(speed_tbl, prd_hrs, prd_tag, tmc_tbl)\n",
    "    \n",
    "    prd_df = sqlqry_to_df(q_str_formatted, db_name)\n",
    "    \n",
    "    return prd_df\n",
    "    "
   ]
  },
  {
   "cell_type": "code",
   "execution_count": 13,
   "id": "2a07467c",
   "metadata": {},
   "outputs": [
    {
     "name": "stdout",
     "output_type": "stream",
     "text": [
      "loading in data for h07...\n",
      "Executing query. Results loading into dataframe...\n",
      "Successfully executed query in 0.21 minutes. 7495 rows loaded into dataframe.\n",
      "loading in data for h08...\n",
      "Executing query. Results loading into dataframe...\n",
      "Successfully executed query in 0.21 minutes. 7495 rows loaded into dataframe.\n",
      "loading in data for h09...\n",
      "Executing query. Results loading into dataframe...\n",
      "Successfully executed query in 0.22 minutes. 7495 rows loaded into dataframe.\n",
      "loading in data for md5...\n",
      "Executing query. Results loading into dataframe...\n",
      "Successfully executed query in 0.36 minutes. 7495 rows loaded into dataframe.\n",
      "loading in data for h15...\n",
      "Executing query. Results loading into dataframe...\n",
      "Successfully executed query in 0.21 minutes. 7495 rows loaded into dataframe.\n",
      "loading in data for h16...\n",
      "Executing query. Results loading into dataframe...\n",
      "Successfully executed query in 0.21 minutes. 7495 rows loaded into dataframe.\n",
      "loading in data for h17...\n",
      "Executing query. Results loading into dataframe...\n",
      "Successfully executed query in 0.21 minutes. 7495 rows loaded into dataframe.\n",
      "loading in data for ev2...\n",
      "Executing query. Results loading into dataframe...\n",
      "Successfully executed query in 0.23 minutes. 7495 rows loaded into dataframe.\n",
      "loading in data for n11...\n",
      "Executing query. Results loading into dataframe...\n",
      "Successfully executed query in 0.34 minutes. 7495 rows loaded into dataframe.\n",
      "successfully created dataframe for speeds in all sacsim time periods.\n"
     ]
    }
   ],
   "source": [
    "query_file = 'cong_speed_model_prds.sql'\n",
    "\n",
    "db = 'NPMRDS'\n",
    "tbl_speeds = 'npmrds_2016_alltmc_paxtruck_comb'\n",
    "tbl_tmcs = 'npmrds_2020_alltmc_txt'\n",
    "join_key = 'tmc'\n",
    "\n",
    "prds = {'h07':[7], 'h08':[8], 'h09':[9], 'md5':[10, 11, 12, 13, 14], \n",
    "        'h15':[15], 'h16':[16], 'h17':[17], 'ev2':[18, 19], \n",
    "        'n11': [20, 21, 22, 23, 0, 1, 2, 3, 4, 5, 6]}\n",
    "\n",
    "df_master = pd.DataFrame()\n",
    "\n",
    "for i, prdtag in enumerate(prds.keys()):\n",
    "    print(f\"loading in data for {prdtag}...\")\n",
    "    prd_hours = ','.join(str(i) for i in prds[prdtag])\n",
    "    if i == 0:\n",
    "        df_master = get_prd_df(qry_file=query_file, db_name=db,\n",
    "                               speed_tbl=tbl_speeds, tmc_tbl=tbl_tmcs, \n",
    "                               prd_tag=prdtag, prd_hrs=prd_hours)\n",
    "    else:\n",
    "        df_p = get_prd_df(qry_file=query_file, db_name=db,\n",
    "                               speed_tbl=tbl_speeds, tmc_tbl=tbl_tmcs, \n",
    "                               prd_tag=prdtag, prd_hrs=prd_hours)\n",
    "        \n",
    "        df_master = df_master.merge(df_p, on=join_key)\n",
    "        \n",
    "        \n",
    "print(\"successfully created dataframe for speeds in all sacsim time periods.\")\n",
    "        \n",
    "\n",
    "    \n"
   ]
  },
  {
   "cell_type": "code",
   "execution_count": 14,
   "id": "f24b6dae",
   "metadata": {},
   "outputs": [
    {
     "data": {
      "text/plain": [
       "tmc               105-16985\n",
       "avspd_h07         22.278737\n",
       "epcnt_h07                17\n",
       "spd_stderr_h07     0.869202\n",
       "avspd_h08         17.379685\n",
       "epcnt_h08                36\n",
       "spd_stderr_h08     0.439095\n",
       "avspd_h09         23.116691\n",
       "epcnt_h09                 5\n",
       "spd_stderr_h09     0.253771\n",
       "avspd_md5         18.061921\n",
       "epcnt_md5                60\n",
       "spd_stderr_md5      0.37128\n",
       "avspd_h15         14.894814\n",
       "epcnt_h15                26\n",
       "spd_stderr_h15     0.608892\n",
       "avspd_h16         20.805381\n",
       "epcnt_h16                23\n",
       "spd_stderr_h16     0.351556\n",
       "avspd_h17         16.132635\n",
       "epcnt_h17                14\n",
       "spd_stderr_h17     1.342916\n",
       "avspd_ev2         25.678396\n",
       "epcnt_ev2                20\n",
       "spd_stderr_ev2     0.326428\n",
       "avspd_n11         21.661711\n",
       "epcnt_n11                13\n",
       "spd_stderr_n11     0.376075\n",
       "Name: 0, dtype: object"
      ]
     },
     "execution_count": 14,
     "metadata": {},
     "output_type": "execute_result"
    }
   ],
   "source": [
    "df_master.iloc[0]"
   ]
  }
 ],
 "metadata": {
  "kernelspec": {
   "display_name": "Python 3",
   "language": "python",
   "name": "python3"
  },
  "language_info": {
   "codemirror_mode": {
    "name": "ipython",
    "version": 3
   },
   "file_extension": ".py",
   "mimetype": "text/x-python",
   "name": "python",
   "nbconvert_exporter": "python",
   "pygments_lexer": "ipython3",
   "version": "3.7.11"
  }
 },
 "nbformat": 4,
 "nbformat_minor": 5
}
